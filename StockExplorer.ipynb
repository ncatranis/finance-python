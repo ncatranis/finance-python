{
 "cells": [
  {
   "cell_type": "code",
   "execution_count": null,
   "id": "da2a8b5b-2211-427d-b2cd-bbc7588192f7",
   "metadata": {},
   "outputs": [],
   "source": [
    "import dash\n",
    "from dash import dcc\n",
    "import pandas as pd\n",
    "import plotly.graph_objects as go\n",
    "import plotly.express as px\n",
    "import requests\n",
    "\n",
    "from config import IEX_BASE_URL, IEX_API_KEY"
   ]
  },
  {
   "cell_type": "code",
   "execution_count": null,
   "id": "f83e0a5a-0018-41f2-a755-240a53599d0e",
   "metadata": {},
   "outputs": [],
   "source": [
    "stock = \"AAPL\"\n",
    "response = requests.get(\n",
    "    f\"{IEX_BASE_URL}/stock/{stock}/chart/5d\", \n",
    "    params={\"token\": IEX_API_KEY},\n",
    ")\n",
    "response"
   ]
  },
  {
   "cell_type": "code",
   "execution_count": null,
   "id": "784fa67d-34b4-4bc3-9300-486daae6fc0c",
   "metadata": {},
   "outputs": [],
   "source": [
    "price_df = pd.DataFrame(response.json())"
   ]
  },
  {
   "cell_type": "code",
   "execution_count": null,
   "id": "daeb31f0-9cb7-4f77-ab3c-628947b42fb5",
   "metadata": {},
   "outputs": [],
   "source": [
    "price_df.columns"
   ]
  },
  {
   "cell_type": "code",
   "execution_count": null,
   "id": "563ae66c-1592-4e66-a87e-ece8a2402671",
   "metadata": {},
   "outputs": [],
   "source": [
    "price_df = price_df[['symbol', 'close', 'date']]"
   ]
  },
  {
   "cell_type": "code",
   "execution_count": null,
   "id": "0b08d986-d019-4b1f-a9b7-feb2b66befce",
   "metadata": {},
   "outputs": [],
   "source": [
    "price_df"
   ]
  },
  {
   "cell_type": "code",
   "execution_count": null,
   "id": "02ced1e5-43c3-4f75-b01b-782b08365ed6",
   "metadata": {},
   "outputs": [],
   "source": [
    "fig = px.line(price_df, x=\"date\", y=\"close\", color=\"symbol\", markers=True)\n",
    "fig.show()"
   ]
  },
  {
   "cell_type": "code",
   "execution_count": null,
   "id": "b0f5a0c2-63c5-43a3-9388-0716ee042203",
   "metadata": {},
   "outputs": [],
   "source": []
  }
 ],
 "metadata": {
  "kernelspec": {
   "display_name": "Python 3 (ipykernel)",
   "language": "python",
   "name": "python3"
  },
  "language_info": {
   "codemirror_mode": {
    "name": "ipython",
    "version": 3
   },
   "file_extension": ".py",
   "mimetype": "text/x-python",
   "name": "python",
   "nbconvert_exporter": "python",
   "pygments_lexer": "ipython3",
   "version": "3.10.4"
  }
 },
 "nbformat": 4,
 "nbformat_minor": 5
}
